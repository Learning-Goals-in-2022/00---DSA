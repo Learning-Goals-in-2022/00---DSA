{
 "cells": [
  {
   "cell_type": "code",
   "execution_count": 1,
   "id": "2e7bf611",
   "metadata": {},
   "outputs": [],
   "source": [
    "sensor=[10,20,30,40,50]"
   ]
  },
  {
   "cell_type": "code",
   "execution_count": 2,
   "id": "7cc01e99",
   "metadata": {},
   "outputs": [
    {
     "name": "stdout",
     "output_type": "stream",
     "text": [
      "10\n",
      "Fan Off\n",
      "20\n",
      "Fan Off\n",
      "30\n",
      "Fan Off\n",
      "40\n",
      "Fan ON\n",
      "50\n",
      "Fan ON\n"
     ]
    }
   ],
   "source": [
    "for temp in sensor:\n",
    "    print(temp)\n",
    "    if temp>30:\n",
    "        print(\"Fan ON\")\n",
    "    else:\n",
    "        print(\"Fan Off\")"
   ]
  },
  {
   "cell_type": "code",
   "execution_count": 1,
   "id": "a6b430ee",
   "metadata": {},
   "outputs": [
    {
     "name": "stdout",
     "output_type": "stream",
     "text": [
      "{'Loc_a': 'clean', 'Loc_b': 'dirty'}\n",
      "{'Loc_a': 'dirty', 'Loc_b': 'dirty'}\n",
      "suck\n"
     ]
    }
   ],
   "source": [
    "class ModelBasedVacuumAgent():\n",
    "    def __init__(self, init_a, init_b):\n",
    "        self.model = {\"Loc_a\" : init_a, \"Loc_b\" : init_b}\n",
    "    def DoAction(self, location, status):\n",
    "        print(self.model)\n",
    "        self.model[location] = status\n",
    "        print(self.model)\n",
    "        if self.model[\"Loc_a\"] == self.model[\"Loc_b\"] == \"clean\":\n",
    "            return \"NoOp\"\n",
    "        elif status == \"dirty\":\n",
    "            return \"suck\"\n",
    "        elif location == \"Loc_a\":\n",
    "            return \"right\"\n",
    "        else:\n",
    "            return \"left\"\n",
    "a=ModelBasedVacuumAgent(\"clean\", \"dirty\")\n",
    "print(a.DoAction(\"Loc_a\", \"dirty\"))"
   ]
  },
  {
   "cell_type": "markdown",
   "id": "f7fb95f3",
   "metadata": {},
   "source": [
    "# LabTask Reflex Agent"
   ]
  },
  {
   "cell_type": "code",
   "execution_count": 2,
   "id": "655710cd",
   "metadata": {},
   "outputs": [
    {
     "name": "stdout",
     "output_type": "stream",
     "text": [
      "suck\n"
     ]
    }
   ],
   "source": [
    "def ReflexVaccumAgent(location, status):\n",
    "    if status == \"dirty\":\n",
    "        return \"suck\"\n",
    "    elif location == \"X\":\n",
    "        return \"right\"\n",
    "    elif location == \"Y\":\n",
    "        return \"left\"\n",
    "\n",
    "print(ReflexVaccumAgent(\"X\", \"dirty\"))"
   ]
  },
  {
   "cell_type": "code",
   "execution_count": null,
   "id": "f3853f97",
   "metadata": {},
   "outputs": [],
   "source": []
  }
 ],
 "metadata": {
  "kernelspec": {
   "display_name": "Python 3 (ipykernel)",
   "language": "python",
   "name": "python3"
  },
  "language_info": {
   "codemirror_mode": {
    "name": "ipython",
    "version": 3
   },
   "file_extension": ".py",
   "mimetype": "text/x-python",
   "name": "python",
   "nbconvert_exporter": "python",
   "pygments_lexer": "ipython3",
   "version": "3.9.12"
  }
 },
 "nbformat": 4,
 "nbformat_minor": 5
}
