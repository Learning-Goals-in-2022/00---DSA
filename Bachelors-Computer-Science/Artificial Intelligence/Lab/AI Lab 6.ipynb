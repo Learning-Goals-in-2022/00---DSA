{
 "cells": [
  {
   "cell_type": "code",
   "execution_count": 1,
   "id": "08c66954",
   "metadata": {},
   "outputs": [
    {
     "data": {
      "text/plain": [
       "[1, 4, 9, 16]"
      ]
     },
     "execution_count": 1,
     "metadata": {},
     "output_type": "execute_result"
    }
   ],
   "source": [
    "a=[1,2,3,4]\n",
    "f=[]\n",
    "for i in a:\n",
    "    f.append(i**2)\n",
    "f"
   ]
  },
  {
   "cell_type": "code",
   "execution_count": 2,
   "id": "8471c992",
   "metadata": {},
   "outputs": [
    {
     "data": {
      "text/plain": [
       "[1, 4, 9, 16]"
      ]
     },
     "execution_count": 2,
     "metadata": {},
     "output_type": "execute_result"
    }
   ],
   "source": [
    "b=[i**2 for i in a]\n",
    "b"
   ]
  },
  {
   "cell_type": "code",
   "execution_count": 3,
   "id": "f8c93505",
   "metadata": {},
   "outputs": [],
   "source": [
    "vertexList = ['0','1','2','3','4','5','6']\n",
    "edgeList = [(0,1), (0,2), (1,0), (1,3), (2,0), (2,4), (2,5), (3,1), (4,2), (4,6), (5,2), (6,4)]"
   ]
  },
  {
   "cell_type": "code",
   "execution_count": 4,
   "id": "bf5bc7a8",
   "metadata": {},
   "outputs": [
    {
     "name": "stdout",
     "output_type": "stream",
     "text": [
      "[[1], [], [], [], [], [], []]\n",
      "[[1, 2], [], [], [], [], [], []]\n",
      "[[1, 2], [0], [], [], [], [], []]\n",
      "[[1, 2], [0, 3], [], [], [], [], []]\n",
      "[[1, 2], [0, 3], [0], [], [], [], []]\n",
      "[[1, 2], [0, 3], [0, 4], [], [], [], []]\n",
      "[[1, 2], [0, 3], [0, 4, 5], [], [], [], []]\n",
      "[[1, 2], [0, 3], [0, 4, 5], [1], [], [], []]\n",
      "[[1, 2], [0, 3], [0, 4, 5], [1], [2], [], []]\n",
      "[[1, 2], [0, 3], [0, 4, 5], [1], [2, 6], [], []]\n",
      "[[1, 2], [0, 3], [0, 4, 5], [1], [2, 6], [2], []]\n",
      "[[1, 2], [0, 3], [0, 4, 5], [1], [2, 6], [2], [4]]\n",
      "[0]\n",
      "[0, 2, 5, 4, 6, 1, 3]\n"
     ]
    }
   ],
   "source": [
    "vertexList = ['0', '1', '2', '3', '4', '5', '6']\n",
    "edgeList = [(0,1), (0,2), (1,0) , (1,3) , (2,0) , (2,4) , (2,5) , (3,1), (4,2) , (4,6), (5,2), (6,4)]\n",
    "graphs = (vertexList, edgeList)\n",
    "\n",
    "def dfs(graph, start):\n",
    "    vertexList, edgeList = graph\n",
    "    visitedVertex = []\n",
    "    stack = [start]\n",
    "    adjacencyList = [[] for vertex in vertexList]\n",
    "\n",
    "    for edge in edgeList:\n",
    "        adjacencyList[edge[0]].append(edge[1])\n",
    "        print(adjacencyList)\n",
    "    print(stack)\n",
    "\n",
    "    while stack:\n",
    "        current = stack.pop()\n",
    "        for neighbor in adjacencyList[current]:\n",
    "            if not neighbor in visitedVertex:\n",
    "                stack.append(neighbor)\n",
    "        visitedVertex.append(current)\n",
    "    return visitedVertex\n",
    "\n",
    "print(dfs(graphs, 0))"
   ]
  },
  {
   "cell_type": "code",
   "execution_count": 5,
   "id": "f171a6a0",
   "metadata": {},
   "outputs": [
    {
     "name": "stdout",
     "output_type": "stream",
     "text": [
      "[0, 1, 2, 3, 4, 5, 6]\n"
     ]
    }
   ],
   "source": [
    "vertexList = ['0', '1', '2', '3', '4', '5', '6']\n",
    "edgeList = [(0,1), (0,2), (1,0) , (1,3) , (2,0) , (2,4) , (2,5) , (3,1), (4,2) , (4,6), (5,2), (6,4)]\n",
    "graphs = (vertexList, edgeList)\n",
    "def bfs(graph, start):\n",
    "    vertexList, edgeList = graph\n",
    "    visitedList = []\n",
    "    queue = [start]\n",
    "    adjacencyList = [[] for vertex in vertexList]\n",
    "\n",
    "    # fill adjacencyList from graph\n",
    "    for edge in edgeList:\n",
    "        adjacencyList[edge[0]].append(edge[1])\n",
    "\n",
    "    # bfs\n",
    "    while queue:\n",
    "        current = queue.pop()\n",
    "        for neighbor in adjacencyList[current]:\n",
    "            if not neighbor in visitedList:\n",
    "                queue.insert(0,neighbor)\n",
    "        visitedList.append(current)\n",
    "    return visitedList\n",
    "\n",
    "print(bfs(graphs, 0))"
   ]
  },
  {
   "cell_type": "code",
   "execution_count": null,
   "id": "5d11025f",
   "metadata": {},
   "outputs": [],
   "source": []
  }
 ],
 "metadata": {
  "kernelspec": {
   "display_name": "Python 3 (ipykernel)",
   "language": "python",
   "name": "python3"
  },
  "language_info": {
   "codemirror_mode": {
    "name": "ipython",
    "version": 3
   },
   "file_extension": ".py",
   "mimetype": "text/x-python",
   "name": "python",
   "nbconvert_exporter": "python",
   "pygments_lexer": "ipython3",
   "version": "3.9.12"
  }
 },
 "nbformat": 4,
 "nbformat_minor": 5
}
