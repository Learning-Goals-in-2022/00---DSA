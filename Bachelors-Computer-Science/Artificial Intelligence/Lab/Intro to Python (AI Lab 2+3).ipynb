{
 "cells": [
  {
   "cell_type": "code",
   "execution_count": 5,
   "id": "4de9eac5",
   "metadata": {},
   "outputs": [
    {
     "name": "stdout",
     "output_type": "stream",
     "text": [
      "equal to 3\n"
     ]
    }
   ],
   "source": [
    "a=1\n",
    "b=2\n",
    "if a<3 and b>2:\n",
    "    print(a)\n",
    "elif a>3 or b<2:\n",
    "    print(\"greater\")\n",
    "else:\n",
    "    print(\"equal to 3\")"
   ]
  },
  {
   "cell_type": "code",
   "execution_count": 6,
   "id": "ebdee782",
   "metadata": {},
   "outputs": [
    {
     "name": "stderr",
     "output_type": "stream",
     "text": [
      "<>:1: SyntaxWarning: \"is\" with a literal. Did you mean \"==\"?\n",
      "<>:1: SyntaxWarning: \"is\" with a literal. Did you mean \"==\"?\n",
      "C:\\Users\\Admin\\AppData\\Local\\Temp\\ipykernel_13100\\135120866.py:1: SyntaxWarning: \"is\" with a literal. Did you mean \"==\"?\n",
      "  a is 2\n"
     ]
    },
    {
     "data": {
      "text/plain": [
       "False"
      ]
     },
     "execution_count": 6,
     "metadata": {},
     "output_type": "execute_result"
    }
   ],
   "source": [
    "a is 2"
   ]
  },
  {
   "cell_type": "code",
   "execution_count": 11,
   "id": "ae4589d5",
   "metadata": {},
   "outputs": [
    {
     "name": "stdout",
     "output_type": "stream",
     "text": [
      "10\n",
      "9\n",
      "8\n",
      "7\n",
      "6\n",
      "5\n",
      "4\n",
      "3\n",
      "2\n"
     ]
    }
   ],
   "source": [
    " for i in range(10,1,-1):\n",
    "        print(i)"
   ]
  },
  {
   "cell_type": "markdown",
   "id": "61977c93",
   "metadata": {},
   "source": [
    "# While Loop"
   ]
  },
  {
   "cell_type": "code",
   "execution_count": 12,
   "id": "d383ede2",
   "metadata": {},
   "outputs": [
    {
     "name": "stdout",
     "output_type": "stream",
     "text": [
      "3\n",
      "4\n",
      "5\n",
      "6\n",
      "7\n",
      "a is equal to 7\n"
     ]
    }
   ],
   "source": [
    "a=3\n",
    "while a<10:\n",
    "    print(a)\n",
    "    if a==7:\n",
    "        print(\"a is equal to 7\")\n",
    "        break\n",
    "    a=a+1"
   ]
  },
  {
   "cell_type": "code",
   "execution_count": 13,
   "id": "960ddf27",
   "metadata": {},
   "outputs": [],
   "source": [
    "def add(a,b):\n",
    "    c=a+b\n",
    "    return c\n"
   ]
  },
  {
   "cell_type": "code",
   "execution_count": 15,
   "id": "eb905d61",
   "metadata": {},
   "outputs": [
    {
     "name": "stdout",
     "output_type": "stream",
     "text": [
      "Sum is:  AILab\n"
     ]
    }
   ],
   "source": [
    "out=add(\"AI\",\"Lab\")\n",
    "print(\"Sum is: \",out)"
   ]
  },
  {
   "cell_type": "code",
   "execution_count": 27,
   "id": "c5f15083",
   "metadata": {},
   "outputs": [],
   "source": [
    "class math():\n",
    "    def __init__(self,a):\n",
    "        self.a1=a\n",
    "        print(self.a1)\n",
    "        print(\"Constructor called\")\n",
    "    def mul(self, d):\n",
    "        return self.a1*d\n",
    "class math2(math):\n",
    "    pass"
   ]
  },
  {
   "cell_type": "code",
   "execution_count": 28,
   "id": "07456590",
   "metadata": {},
   "outputs": [
    {
     "name": "stdout",
     "output_type": "stream",
     "text": [
      "2\n",
      "Constructor called\n",
      "Multiplication:  10\n"
     ]
    }
   ],
   "source": [
    "out=math(2)\n",
    "print(\"Multiplication: \", out.mul(5))"
   ]
  },
  {
   "cell_type": "code",
   "execution_count": 9,
   "id": "4bb76d20",
   "metadata": {},
   "outputs": [
    {
     "name": "stdout",
     "output_type": "stream",
     "text": [
      "1. Soup and Salad\n",
      "2. Pasta with meat sauce\n",
      "3. Chef's special\n",
      "Which thing would you like to order? (please select repective number)\n",
      "2\n",
      "One Pasta with meat sauce coming right up!\n"
     ]
    }
   ],
   "source": [
    "#lab2Task1\n",
    "print(\"1. Soup and Salad\")\n",
    "print(\"2. Pasta with meat sauce\")\n",
    "print(\"3. Chef's special\")\n",
    "a=int(input(\"Which thing would you like to order? (please select repective number)\\n\"))\n",
    "if a==1:\n",
    "    print(\"One Soup with salad coming right up!\")\n",
    "elif a==2:\n",
    "    print(\"One Pasta with meat sauce coming right up!\")\n",
    "elif a==3:\n",
    "    print(\"One Chef's special coming right up!\")\n",
    "else:\n",
    "    print(\"Sorry! that is not a valid choice\")"
   ]
  },
  {
   "cell_type": "code",
   "execution_count": 7,
   "id": "f8fbb98a",
   "metadata": {},
   "outputs": [
    {
     "name": "stdout",
     "output_type": "stream",
     "text": [
      "3, 5, 6\n",
      "Vaue of totalApple is:  14\n",
      "totalApple is geater than 10\n"
     ]
    }
   ],
   "source": [
    "#Lab2Task2\n",
    "john=3\n",
    "mary=5\n",
    "adam=6\n",
    "print(john,mary,adam, sep=', ')\n",
    "totalApples=john+mary+adam\n",
    "print(\"Vaue of totalApple is: \", totalApples)\n",
    "if totalApples > 10:\n",
    "    print(\"totalApple is geater than 10\")\n",
    "elif totalApples < 10:\n",
    "    print(\"totalApple is less than 10\")\n",
    "else:\n",
    "    print(\"totalApple is equal than 10\")"
   ]
  },
  {
   "cell_type": "code",
   "execution_count": 12,
   "id": "06e629f7",
   "metadata": {},
   "outputs": [
    {
     "name": "stdout",
     "output_type": "stream",
     "text": [
      "Enter a number: 5\n",
      "Largest number is:  5\n",
      "Enter a number: 8\n",
      "Largest number is:  8\n",
      "Enter a number: 2\n",
      "Largest number is:  8\n",
      "Enter a number: 10\n",
      "Largest number is:  10\n",
      "Enter a number: 2\n",
      "Largest number is:  10\n",
      "Enter a number: 5\n",
      "Largest number is:  10\n",
      "Enter a number: 3\n",
      "Largest number is:  10\n",
      "Enter a number: 7\n",
      "Largest number is:  10\n",
      "Enter a number: 8\n",
      "Largest number is:  10\n",
      "Enter a number: 3\n",
      "Largest number is:  10\n"
     ]
    }
   ],
   "source": [
    "#lab3Task1\n",
    "def largestNum(a,b):\n",
    "    if a>b:\n",
    "        c=a\n",
    "    else:\n",
    "        c=b\n",
    "    return c\n",
    "\n",
    "prev=0\n",
    "for i in range(10):\n",
    "    x = int(input(\"Enter a number: \"))\n",
    "    print(\"Largest number is: \", largestNum(prev,x))\n",
    "    prev = largestNum(prev,x)\n",
    "    "
   ]
  },
  {
   "cell_type": "code",
   "execution_count": 14,
   "id": "3b51bedf",
   "metadata": {},
   "outputs": [
    {
     "name": "stdout",
     "output_type": "stream",
     "text": [
      "Enter First Number: 5\n",
      "Enter Second Number: 3\n",
      "Choose your operation:\n",
      "1. Add\n",
      "2. Subtract\n",
      "3. Multiply\n",
      "4. Divide\n",
      "3\n",
      "Multiplication of  5  and  3  is:  15\n"
     ]
    }
   ],
   "source": [
    "#Lab3Task2\n",
    "class basic_calc():\n",
    "    def __init__(self,a,b):\n",
    "        self.x=a\n",
    "        self.y=b\n",
    "    def add(self):\n",
    "        return self.x+self.y\n",
    "    def sub(self):\n",
    "        return self.x-self.y\n",
    "    def mul(self):\n",
    "        return self.x*self.y\n",
    "    def dvi(self):\n",
    "        return self.x/self.y\n",
    "    \n",
    "a=int(input(\"Enter First Number: \"))\n",
    "b=int(input(\"Enter Second Number: \"))\n",
    "out=basic_calc(a,b)\n",
    "print(\"Choose your operation:\")\n",
    "print(\"1. Add\")\n",
    "print(\"2. Subtract\")\n",
    "print(\"3. Multiply\")\n",
    "print(\"4. Divide\")\n",
    "x=int(input())\n",
    "if x==1:\n",
    "    print(\"Addition of \",a,\" and \",b,\" is: \", out.add())\n",
    "elif x==2:\n",
    "    print(\"Subtraction of \",a,\" and \",b,\" is: \", out.sub())\n",
    "elif x==3:\n",
    "    print(\"Multiplication of \",a,\" and \",b,\" is: \", out.mul())\n",
    "elif x==4:\n",
    "    print(\"Division of \",a,\" and \",b,\" is: \", out.dvi())\n",
    "else:\n",
    "    print(\"Sorry! that is not a valid choice\")"
   ]
  },
  {
   "cell_type": "code",
   "execution_count": null,
   "id": "9d781774",
   "metadata": {},
   "outputs": [],
   "source": []
  }
 ],
 "metadata": {
  "kernelspec": {
   "display_name": "Python 3 (ipykernel)",
   "language": "python",
   "name": "python3"
  },
  "language_info": {
   "codemirror_mode": {
    "name": "ipython",
    "version": 3
   },
   "file_extension": ".py",
   "mimetype": "text/x-python",
   "name": "python",
   "nbconvert_exporter": "python",
   "pygments_lexer": "ipython3",
   "version": "3.9.12"
  }
 },
 "nbformat": 4,
 "nbformat_minor": 5
}
